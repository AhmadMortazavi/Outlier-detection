{
 "cells": [
  {
   "cell_type": "markdown",
   "id": "9de732dd",
   "metadata": {},
   "source": [
    "# Outlier detection using IQR method"
   ]
  },
  {
   "cell_type": "code",
   "execution_count": 44,
   "id": "b6959e9a",
   "metadata": {},
   "outputs": [],
   "source": [
    "%matplotlib inline\n",
    "import numpy as np\n",
    "import pandas as pd\n",
    "import matplotlib.pyplot as plt\n",
    "import seaborn as sns\n",
    "import sklearn\n",
    "import xgboost as xgb\n",
    "import tensorflow as tf"
   ]
  },
  {
   "cell_type": "markdown",
   "id": "e427a2f4",
   "metadata": {},
   "source": [
    "<img src=\"https://miro.medium.com/v2/resize:fit:720/format:webp/1*USCc7cKa-8M0tfCPkFPZQg.png\">"
   ]
  },
  {
   "cell_type": "code",
   "execution_count": 45,
   "id": "36779dab",
   "metadata": {},
   "outputs": [],
   "source": [
    "dataset=pd.read_csv(r'D:\\ML\\Ahmad codes\\data_for_distribution_Mandana.csv')"
   ]
  },
  {
   "cell_type": "code",
   "execution_count": 46,
   "id": "e6b5c89c",
   "metadata": {},
   "outputs": [
    {
     "data": {
      "text/html": [
       "<div>\n",
       "<style scoped>\n",
       "    .dataframe tbody tr th:only-of-type {\n",
       "        vertical-align: middle;\n",
       "    }\n",
       "\n",
       "    .dataframe tbody tr th {\n",
       "        vertical-align: top;\n",
       "    }\n",
       "\n",
       "    .dataframe thead th {\n",
       "        text-align: right;\n",
       "    }\n",
       "</style>\n",
       "<table border=\"1\" class=\"dataframe\">\n",
       "  <thead>\n",
       "    <tr style=\"text-align: right;\">\n",
       "      <th></th>\n",
       "      <th>Unique_ID</th>\n",
       "      <th>holeid</th>\n",
       "      <th>from</th>\n",
       "      <th>to</th>\n",
       "      <th>As</th>\n",
       "      <th>Au</th>\n",
       "      <th>Pb</th>\n",
       "      <th>Fe</th>\n",
       "      <th>Mo</th>\n",
       "      <th>Cu</th>\n",
       "      <th>S</th>\n",
       "      <th>Zn</th>\n",
       "      <th>Class</th>\n",
       "    </tr>\n",
       "  </thead>\n",
       "  <tbody>\n",
       "    <tr>\n",
       "      <th>0</th>\n",
       "      <td>A04812</td>\n",
       "      <td>SOLVE003</td>\n",
       "      <td>561</td>\n",
       "      <td>571.0</td>\n",
       "      <td>NaN</td>\n",
       "      <td>0.066000</td>\n",
       "      <td>1031.00</td>\n",
       "      <td>61380.0</td>\n",
       "      <td>138.2000</td>\n",
       "      <td>3.600</td>\n",
       "      <td>3586.0000</td>\n",
       "      <td>43.6000</td>\n",
       "      <td>A</td>\n",
       "    </tr>\n",
       "    <tr>\n",
       "      <th>1</th>\n",
       "      <td>A03356</td>\n",
       "      <td>SOLVE003</td>\n",
       "      <td>571</td>\n",
       "      <td>581.0</td>\n",
       "      <td>NaN</td>\n",
       "      <td>0.152000</td>\n",
       "      <td>1982.00</td>\n",
       "      <td>50860.0</td>\n",
       "      <td>75.4000</td>\n",
       "      <td>4.800</td>\n",
       "      <td>1822.0000</td>\n",
       "      <td>36.4000</td>\n",
       "      <td>A</td>\n",
       "    </tr>\n",
       "    <tr>\n",
       "      <th>2</th>\n",
       "      <td>A04764</td>\n",
       "      <td>SOLVE003</td>\n",
       "      <td>581</td>\n",
       "      <td>591.0</td>\n",
       "      <td>NaN</td>\n",
       "      <td>0.068000</td>\n",
       "      <td>1064.80</td>\n",
       "      <td>57940.0</td>\n",
       "      <td>29.2000</td>\n",
       "      <td>3.000</td>\n",
       "      <td>740.4000</td>\n",
       "      <td>36.6000</td>\n",
       "      <td>A</td>\n",
       "    </tr>\n",
       "    <tr>\n",
       "      <th>3</th>\n",
       "      <td>A04626</td>\n",
       "      <td>SOLVE003</td>\n",
       "      <td>591</td>\n",
       "      <td>601.0</td>\n",
       "      <td>NaN</td>\n",
       "      <td>0.074000</td>\n",
       "      <td>891.60</td>\n",
       "      <td>48620.0</td>\n",
       "      <td>63.0000</td>\n",
       "      <td>4.200</td>\n",
       "      <td>820.8000</td>\n",
       "      <td>39.6000</td>\n",
       "      <td>A</td>\n",
       "    </tr>\n",
       "    <tr>\n",
       "      <th>4</th>\n",
       "      <td>A05579</td>\n",
       "      <td>SOLVE003</td>\n",
       "      <td>601</td>\n",
       "      <td>611.0</td>\n",
       "      <td>NaN</td>\n",
       "      <td>0.043125</td>\n",
       "      <td>801.25</td>\n",
       "      <td>51025.0</td>\n",
       "      <td>56.0625</td>\n",
       "      <td>4.875</td>\n",
       "      <td>745.6875</td>\n",
       "      <td>32.3125</td>\n",
       "      <td>A</td>\n",
       "    </tr>\n",
       "  </tbody>\n",
       "</table>\n",
       "</div>"
      ],
      "text/plain": [
       "  Unique_ID    holeid  from     to  As        Au       Pb       Fe        Mo  \\\n",
       "0    A04812  SOLVE003   561  571.0 NaN  0.066000  1031.00  61380.0  138.2000   \n",
       "1    A03356  SOLVE003   571  581.0 NaN  0.152000  1982.00  50860.0   75.4000   \n",
       "2    A04764  SOLVE003   581  591.0 NaN  0.068000  1064.80  57940.0   29.2000   \n",
       "3    A04626  SOLVE003   591  601.0 NaN  0.074000   891.60  48620.0   63.0000   \n",
       "4    A05579  SOLVE003   601  611.0 NaN  0.043125   801.25  51025.0   56.0625   \n",
       "\n",
       "      Cu          S       Zn Class  \n",
       "0  3.600  3586.0000  43.6000     A  \n",
       "1  4.800  1822.0000  36.4000     A  \n",
       "2  3.000   740.4000  36.6000     A  \n",
       "3  4.200   820.8000  39.6000     A  \n",
       "4  4.875   745.6875  32.3125     A  "
      ]
     },
     "execution_count": 46,
     "metadata": {},
     "output_type": "execute_result"
    }
   ],
   "source": [
    "dataset.head()"
   ]
  },
  {
   "cell_type": "code",
   "execution_count": 47,
   "id": "3051b0e9",
   "metadata": {},
   "outputs": [
    {
     "data": {
      "text/plain": [
       "<AxesSubplot:>"
      ]
     },
     "execution_count": 47,
     "metadata": {},
     "output_type": "execute_result"
    },
    {
     "data": {
      "image/png": "[encoded data removed]",
      "text/plain": [
       "<Figure size 640x480 with 1 Axes>"
      ]
     },
     "metadata": {},
     "output_type": "display_data"
    }
   ],
   "source": [
    "dataset.boxplot(column=['Au', 'Pb', 'Fe','Mo', 'Cu','S','Zn'])  "
   ]
  },
  {
   "cell_type": "code",
   "execution_count": 48,
   "id": "58b150ad",
   "metadata": {},
   "outputs": [
    {
     "data": {
      "text/html": [
       "<div>\n",
       "<style scoped>\n",
       "    .dataframe tbody tr th:only-of-type {\n",
       "        vertical-align: middle;\n",
       "    }\n",
       "\n",
       "    .dataframe tbody tr th {\n",
       "        vertical-align: top;\n",
       "    }\n",
       "\n",
       "    .dataframe thead th {\n",
       "        text-align: right;\n",
       "    }\n",
       "</style>\n",
       "<table border=\"1\" class=\"dataframe\">\n",
       "  <thead>\n",
       "    <tr style=\"text-align: right;\">\n",
       "      <th></th>\n",
       "      <th>Fe</th>\n",
       "    </tr>\n",
       "  </thead>\n",
       "  <tbody>\n",
       "    <tr>\n",
       "      <th>0</th>\n",
       "      <td>61380.0</td>\n",
       "    </tr>\n",
       "    <tr>\n",
       "      <th>1</th>\n",
       "      <td>50860.0</td>\n",
       "    </tr>\n",
       "    <tr>\n",
       "      <th>2</th>\n",
       "      <td>57940.0</td>\n",
       "    </tr>\n",
       "    <tr>\n",
       "      <th>3</th>\n",
       "      <td>48620.0</td>\n",
       "    </tr>\n",
       "    <tr>\n",
       "      <th>4</th>\n",
       "      <td>51025.0</td>\n",
       "    </tr>\n",
       "  </tbody>\n",
       "</table>\n",
       "</div>"
      ],
      "text/plain": [
       "        Fe\n",
       "0  61380.0\n",
       "1  50860.0\n",
       "2  57940.0\n",
       "3  48620.0\n",
       "4  51025.0"
      ]
     },
     "execution_count": 48,
     "metadata": {},
     "output_type": "execute_result"
    }
   ],
   "source": [
    "Fe= pd.DataFrame(dataset, columns = ['Fe']);Fe.head()"
   ]
  },
  {
   "cell_type": "code",
   "execution_count": 49,
   "id": "565e5706",
   "metadata": {},
   "outputs": [
    {
     "data": {
      "text/plain": [
       "(4004, 1)"
      ]
     },
     "execution_count": 49,
     "metadata": {},
     "output_type": "execute_result"
    }
   ],
   "source": [
    "Fe.shape"
   ]
  },
  {
   "cell_type": "code",
   "execution_count": 50,
   "id": "c57218b8",
   "metadata": {},
   "outputs": [
    {
     "data": {
      "text/plain": [
       "Fe    47\n",
       "dtype: int64"
      ]
     },
     "execution_count": 50,
     "metadata": {},
     "output_type": "execute_result"
    }
   ],
   "source": [
    "Fe.isnull().sum()"
   ]
  },
  {
   "cell_type": "code",
   "execution_count": 51,
   "id": "ba4aaf25",
   "metadata": {},
   "outputs": [
    {
     "data": {
      "text/html": [
       "<div>\n",
       "<style scoped>\n",
       "    .dataframe tbody tr th:only-of-type {\n",
       "        vertical-align: middle;\n",
       "    }\n",
       "\n",
       "    .dataframe tbody tr th {\n",
       "        vertical-align: top;\n",
       "    }\n",
       "\n",
       "    .dataframe thead th {\n",
       "        text-align: right;\n",
       "    }\n",
       "</style>\n",
       "<table border=\"1\" class=\"dataframe\">\n",
       "  <thead>\n",
       "    <tr style=\"text-align: right;\">\n",
       "      <th></th>\n",
       "      <th>Fe</th>\n",
       "    </tr>\n",
       "  </thead>\n",
       "  <tbody>\n",
       "    <tr>\n",
       "      <th>count</th>\n",
       "      <td>3957.000000</td>\n",
       "    </tr>\n",
       "    <tr>\n",
       "      <th>mean</th>\n",
       "      <td>48938.541161</td>\n",
       "    </tr>\n",
       "    <tr>\n",
       "      <th>std</th>\n",
       "      <td>18510.395926</td>\n",
       "    </tr>\n",
       "    <tr>\n",
       "      <th>min</th>\n",
       "      <td>2080.000000</td>\n",
       "    </tr>\n",
       "    <tr>\n",
       "      <th>25%</th>\n",
       "      <td>38420.000000</td>\n",
       "    </tr>\n",
       "    <tr>\n",
       "      <th>50%</th>\n",
       "      <td>48760.000000</td>\n",
       "    </tr>\n",
       "    <tr>\n",
       "      <th>75%</th>\n",
       "      <td>58560.000000</td>\n",
       "    </tr>\n",
       "    <tr>\n",
       "      <th>max</th>\n",
       "      <td>331400.000000</td>\n",
       "    </tr>\n",
       "  </tbody>\n",
       "</table>\n",
       "</div>"
      ],
      "text/plain": [
       "                  Fe\n",
       "count    3957.000000\n",
       "mean    48938.541161\n",
       "std     18510.395926\n",
       "min      2080.000000\n",
       "25%     38420.000000\n",
       "50%     48760.000000\n",
       "75%     58560.000000\n",
       "max    331400.000000"
      ]
     },
     "execution_count": 51,
     "metadata": {},
     "output_type": "execute_result"
    }
   ],
   "source": [
    "Fe.describe()"
   ]
  },
  {
   "cell_type": "code",
   "execution_count": 52,
   "id": "27225d01",
   "metadata": {},
   "outputs": [
    {
     "data": {
      "text/plain": [
       "<AxesSubplot:>"
      ]
     },
     "execution_count": 52,
     "metadata": {},
     "output_type": "execute_result"
    },
    {
     "data": {
      "image/png": "[encoded data removed]",
      "text/plain": [
       "<Figure size 640x480 with 1 Axes>"
      ]
     },
     "metadata": {},
     "output_type": "display_data"
    }
   ],
   "source": [
    "Fe.boxplot(column=[ 'Fe'])  "
   ]
  },
  {
   "cell_type": "code",
   "execution_count": 53,
   "id": "2dab007e",
   "metadata": {},
   "outputs": [
    {
     "data": {
      "text/plain": [
       "<AxesSubplot:>"
      ]
     },
     "execution_count": 53,
     "metadata": {},
     "output_type": "execute_result"
    },
    {
     "data": {
      "image/png": "[encoded data removed]",
      "text/plain": [
       "<Figure size 640x480 with 1 Axes>"
      ]
     },
     "metadata": {},
     "output_type": "display_data"
    }
   ],
   "source": [
    "Q1 = Fe.quantile(0.25)\n",
    "Q3 = Fe.quantile(0.75)\n",
    "IQR = Q3 - Q1\n",
    "Fe = Fe[~((Fe < (Q1 - 1.5 * IQR)) |(Fe > (Q3 + 1.5 * IQR))).any(axis=1)]\n",
    "Fe.boxplot(column=[ 'Fe']) "
   ]
  },
  {
   "cell_type": "code",
   "execution_count": 54,
   "id": "40eb041a",
   "metadata": {},
   "outputs": [
    {
     "data": {
      "text/plain": [
       "<AxesSubplot:>"
      ]
     },
     "execution_count": 54,
     "metadata": {},
     "output_type": "execute_result"
    },
    {
     "data": {
      "image/png": "[encoded data removed]",
      "text/plain": [
       "<Figure size 640x480 with 1 Axes>"
      ]
     },
     "metadata": {},
     "output_type": "display_data"
    }
   ],
   "source": [
    "Q1 = Fe.quantile(0.25)\n",
    "Q3 = Fe.quantile(0.75)\n",
    "IQR = Q3 - Q1\n",
    "Fe = Fe[~((Fe < (Q1 - 1.5 * IQR)) |(Fe > (Q3 + 1.5 * IQR))).any(axis=1)]\n",
    "Fe.boxplot(column=[ 'Fe']) "
   ]
  },
  {
   "cell_type": "code",
   "execution_count": 55,
   "id": "3a5f178b",
   "metadata": {},
   "outputs": [
    {
     "data": {
      "text/plain": [
       "(3940, 1)"
      ]
     },
     "execution_count": 55,
     "metadata": {},
     "output_type": "execute_result"
    }
   ],
   "source": [
    "Fe.shape"
   ]
  },
  {
   "cell_type": "code",
   "execution_count": 56,
   "id": "a2d5ca06",
   "metadata": {},
   "outputs": [
    {
     "data": {
      "text/plain": [
       "Fe    47\n",
       "dtype: int64"
      ]
     },
     "execution_count": 56,
     "metadata": {},
     "output_type": "execute_result"
    }
   ],
   "source": [
    "Fe.isnull().sum()"
   ]
  },
  {
   "cell_type": "code",
   "execution_count": 57,
   "id": "6b26070f",
   "metadata": {},
   "outputs": [
    {
     "data": {
      "text/html": [
       "<div>\n",
       "<style scoped>\n",
       "    .dataframe tbody tr th:only-of-type {\n",
       "        vertical-align: middle;\n",
       "    }\n",
       "\n",
       "    .dataframe tbody tr th {\n",
       "        vertical-align: top;\n",
       "    }\n",
       "\n",
       "    .dataframe thead th {\n",
       "        text-align: right;\n",
       "    }\n",
       "</style>\n",
       "<table border=\"1\" class=\"dataframe\">\n",
       "  <thead>\n",
       "    <tr style=\"text-align: right;\">\n",
       "      <th></th>\n",
       "      <th>Fe</th>\n",
       "    </tr>\n",
       "  </thead>\n",
       "  <tbody>\n",
       "    <tr>\n",
       "      <th>count</th>\n",
       "      <td>3893.000000</td>\n",
       "    </tr>\n",
       "    <tr>\n",
       "      <th>mean</th>\n",
       "      <td>48116.187355</td>\n",
       "    </tr>\n",
       "    <tr>\n",
       "      <th>std</th>\n",
       "      <td>14050.648951</td>\n",
       "    </tr>\n",
       "    <tr>\n",
       "      <th>min</th>\n",
       "      <td>8740.000000</td>\n",
       "    </tr>\n",
       "    <tr>\n",
       "      <th>25%</th>\n",
       "      <td>38442.105260</td>\n",
       "    </tr>\n",
       "    <tr>\n",
       "      <th>50%</th>\n",
       "      <td>48600.000000</td>\n",
       "    </tr>\n",
       "    <tr>\n",
       "      <th>75%</th>\n",
       "      <td>58280.000000</td>\n",
       "    </tr>\n",
       "    <tr>\n",
       "      <th>max</th>\n",
       "      <td>87940.000000</td>\n",
       "    </tr>\n",
       "  </tbody>\n",
       "</table>\n",
       "</div>"
      ],
      "text/plain": [
       "                 Fe\n",
       "count   3893.000000\n",
       "mean   48116.187355\n",
       "std    14050.648951\n",
       "min     8740.000000\n",
       "25%    38442.105260\n",
       "50%    48600.000000\n",
       "75%    58280.000000\n",
       "max    87940.000000"
      ]
     },
     "execution_count": 57,
     "metadata": {},
     "output_type": "execute_result"
    }
   ],
   "source": [
    "Fe.describe()"
   ]
  },
  {
   "cell_type": "code",
   "execution_count": null,
   "id": "582c6db1",
   "metadata": {},
   "outputs": [],
   "source": []
  }
 ],
 "metadata": {
  "kernelspec": {
   "display_name": "Python 3 (ipykernel)",
   "language": "python",
   "name": "python3"
  },
  "language_info": {
   "codemirror_mode": {
    "name": "ipython",
    "version": 3
   },
   "file_extension": ".py",
   "mimetype": "text/x-python",
   "name": "python",
   "nbconvert_exporter": "python",
   "pygments_lexer": "ipython3",
   "version": "3.9.13"
  }
 },
 "nbformat": 4,
 "nbformat_minor": 5
}
